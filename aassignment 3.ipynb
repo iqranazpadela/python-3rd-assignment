{
 "cells": [
  {
   "cell_type": "code",
   "execution_count": 1,
   "metadata": {},
   "outputs": [
    {
     "name": "stdout",
     "output_type": "stream",
     "text": [
      "assignment 3\n"
     ]
    }
   ],
   "source": [
    "print(\"assignment 3\")\n"
   ]
  },
  {
   "cell_type": "code",
   "execution_count": 2,
   "metadata": {},
   "outputs": [
    {
     "name": "stdout",
     "output_type": "stream",
     "text": [
      "Enter 1st number  12\n",
      "Enter 2nd number  12\n",
      "Enter operator  +\n",
      "24\n"
     ]
    }
   ],
   "source": [
    "\n",
    "# 1)Make a calculator using Python with addition , subtraction , multiplication ,division and power.                                                                                                \n",
    "a = int(input(\"Enter 1st number  \"))\n",
    "b = int( input(\"Enter 2nd number  \"))\n",
    "operator = input(\"Enter operator  \")\n",
    "\n",
    "if operator == \"*\":\n",
    "    print(a*b)\n",
    "    \n",
    "elif operator == '+':\n",
    "    print(a+b)\n",
    "\n",
    "elif operator == '-':\n",
    "    print(a-b)\n",
    "    \n",
    "elif operator == '/':\n",
    "    print(a/b)\n",
    "    \n",
    "elif operator == 'p':\n",
    "    print(a**b)"
   ]
  },
  {
   "cell_type": "code",
   "execution_count": 4,
   "metadata": {},
   "outputs": [
    {
     "name": "stdout",
     "output_type": "stream",
     "text": [
      "Numeric value is found = 14 At Index=0\n",
      "Numeric value is found = 1 At Index=1\n",
      "Numeric value is found = 98 At Index=5\n"
     ]
    }
   ],
   "source": [
    "# 2) Write a program to check if there is any numeric value in list using for loop\n",
    "arr = [14,1,\"iqra\",\"tahir\",\"sami\",98]\n",
    "for aa in arr:\n",
    "    if type(aa) == int or type(aa) == float:\n",
    "        print(f\"Numeric value is found = {aa} At Index={arr.index(aa)}\")"
   ]
  },
  {
   "cell_type": "code",
   "execution_count": 6,
   "metadata": {},
   "outputs": [
    {
     "name": "stdout",
     "output_type": "stream",
     "text": [
      "{'b': 'best', 'h': 'happiness', 'l': 'love'}\n",
      "{'b': 'best', 'h': 'happiness', 'l': 'love', 's': 'smile'}\n"
     ]
    }
   ],
   "source": [
    "# 3)  Write a Python script to add a key to a dictionary\n",
    "dic = {\"b\": \"best\", \"h\" : \"happiness\" , \"l\" : \"love\"}\n",
    "print(dic)\n",
    "\n",
    "dic.update({\"s\":\"smile\"})\n",
    "print(dic)"
   ]
  },
  {
   "cell_type": "code",
   "execution_count": 9,
   "metadata": {},
   "outputs": [
    {
     "ename": "SyntaxError",
     "evalue": "invalid syntax (<ipython-input-9-dd56ff1e4b4b>, line 3)",
     "output_type": "error",
     "traceback": [
      "\u001b[1;36m  File \u001b[1;32m\"<ipython-input-9-dd56ff1e4b4b>\"\u001b[1;36m, line \u001b[1;32m3\u001b[0m\n\u001b[1;33m    sum =\u001b[0m\n\u001b[1;37m          ^\u001b[0m\n\u001b[1;31mSyntaxError\u001b[0m\u001b[1;31m:\u001b[0m invalid syntax\n"
     ]
    }
   ],
   "source": [
    "# 4)  Write a Python program to sum all the numeric items in a dictionary\n",
    "def sumdic(dic):\n",
    "        sum = \n",
    "        for i in dic.values():\n",
    "            sum = sum + i\n",
    "        return sum\n",
    "\n",
    "ndic = {0:31 , 1:65, 2:132 }\n",
    "\n",
    "print(\"sum :: \",sumdic(ndic))"
   ]
  },
  {
   "cell_type": "code",
   "execution_count": 11,
   "metadata": {},
   "outputs": [
    {
     "name": "stdout",
     "output_type": "stream",
     "text": [
      "duplicate value is found  iqra\n",
      "duplicate value is found  1\n",
      "['iqra', 'sami', 'tahir', 14, 1, 98]\n"
     ]
    }
   ],
   "source": [
    "# 5)   Write a program to identify duplicate values from list\n",
    "lst1 = [\"iqra\",\"sami\",\"tahir\",\"iqra\",14,1,98,1]\n",
    "def dup(lst):\n",
    "    lst1dup = []\n",
    "    for val in lst:\n",
    "        if val not in lst1dup:\n",
    "            lst1dup.append(val)\n",
    "        elif val in lst1dup:\n",
    "            print(\"duplicate value is found \",val)\n",
    "    return lst1dup\n",
    "\n",
    "print(dup(lst1))"
   ]
  },
  {
   "cell_type": "code",
   "execution_count": 17,
   "metadata": {},
   "outputs": [
    {
     "name": "stdout",
     "output_type": "stream",
     "text": [
      "Key is present in the dictionary\n",
      "Key is present in the dictionary\n",
      "Key is not present in the dictionary\n",
      "Key is present in the dictionary\n",
      "Key is not present in the dictionary\n"
     ]
    }
   ],
   "source": [
    "# 6)   Write a Python script to check if a given key already exists in a dictionary\n",
    "dic = {\n",
    "    1: 10,\n",
    "    2: 100,\n",
    "    3: 20,\n",
    "    4: 90,\n",
    "    5: 30,\n",
    "    6: 80}\n",
    "def is_key_present(x):\n",
    "    if x in dic:\n",
    "        print('Key is present in the dictionary')\n",
    "    else: \n",
    "        print('Key is not present in the dictionary')\n",
    "            \n",
    "            \n",
    "is_key_present(5)\n",
    "is_key_present(2)\n",
    "is_key_present(10)\n",
    "is_key_present(6)\n",
    "is_key_present(7)"
   ]
  },
  {
   "cell_type": "code",
   "execution_count": 18,
   "metadata": {},
   "outputs": [
    {
     "name": "stdout",
     "output_type": "stream",
     "text": [
      "assignment done\n"
     ]
    }
   ],
   "source": [
    "print(\"assignment done\")"
   ]
  }
 ],
 "metadata": {
  "kernelspec": {
   "display_name": "Python 3",
   "language": "python",
   "name": "python3"
  },
  "language_info": {
   "codemirror_mode": {
    "name": "ipython",
    "version": 3
   },
   "file_extension": ".py",
   "mimetype": "text/x-python",
   "name": "python",
   "nbconvert_exporter": "python",
   "pygments_lexer": "ipython3",
   "version": "3.7.4"
  }
 },
 "nbformat": 4,
 "nbformat_minor": 2
}
